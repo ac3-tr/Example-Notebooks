{
 "cells": [
  {
   "cell_type": "markdown",
   "metadata": {},
   "source": [
    "## Information about this notebook\n",
    "\n",
    "This example script was provided as part of the Data Management Project (INF) within the TR-172 [\"ArctiC Amplification: Climate Relevant Atmospheric and SurfaCe Processes, and Feedback Mechanisms\" (AC)³](http://www.ac3-tr.de/) funded by the German Research Foundation (Deutsche Forschungsgemeinschaft, DFG)\n",
    "\n",
    "Author: Matthias Buschmann, [Institute of Environmental Physics](http://www.iup.uni-bremen.de), University of Bremen, Germany, m_buschmann@iup.physik.uni-bremen.de\n",
    "\n",
    "Github repository: https://github.com/ac3-tr/ac3-notebooks\n",
    "\n",
    "**Setup instructions for a reference Python Environment can be found on the [Github page](https://github.com/ac3-tr/ac3-notebooks)**"
   ]
  },
  {
   "cell_type": "code",
   "execution_count": 1,
   "metadata": {},
   "outputs": [],
   "source": [
    "import matplotlib.pyplot as plt\n",
    "import numpy as np\n",
    "import datetime as dt\n",
    "import cartopy.crs as ccrs\n",
    "from cartopy.mpl.ticker import LongitudeFormatter, LatitudeFormatter\n",
    "import cartopy, os\n",
    "from netCDF4 import Dataset\n",
    "%matplotlib inline"
   ]
  },
  {
   "cell_type": "markdown",
   "metadata": {},
   "source": [
    "# Broadband solar irradiance during POLARSTERN cruise PS106/1 Ice Floe Camp\n",
    "\n",
    "\n",
    "## Dataset resources\n",
    "\n",
    "**Title:** Spatial and temporal variability of broadband solar irradiance during POLARSTERN cruise PS106/1 Ice Floe Camp (June 4th-16th 2017)  \n",
    "\n",
    "**Author** Barrientos Velasco, Carola; Deneke, Hartwig; Macke, Andreas\n",
    "\n",
    "**Year** 2018\n",
    "\n",
    "**Institute** Tropos, Leipzig\n",
    "\n",
    "**Data hosted by** [PANGAEA](https://pangaea.de)\n",
    "\n",
    "**DOI** [10.1594/PANGAEA.896710](https://doi.org/10.1594/PANGAEA.896710)\n",
    "\n",
    "**License** [Creative Commons Attribution 4.0 International](https://creativecommons.org/licenses/by/4.0/ \"CC-BY-4.0\")\n",
    "\n",
    "\n",
    "## Abstract\n",
    "The dataset is part of the expedition PS106/1 of the Research Vessel POLARSTERN to the Arctic Ocean in 2017.\n",
    "During the ice floe camp (draft period, June 4th-16th 2017) 15 pyranometer stations were deployed over the ice floe covering an area of about 1 Km². Each station measured broadband solar irradiance and temperature at 1Hz resolution.\n",
    "\n",
    "Relative humidity was also measured, however its use it is not recommended due to technical problems of the sensors.\n",
    "\n",
    "Each file contains level and cleanliness flag describing the status of the pyranometer dome per day. The criterion is as follows.\n",
    "\n",
    "Cleanliness\n",
    "clean =1, drops =2, frozen =3, no observation = 4\n",
    "\n",
    "Leveling\n",
    "leveled =1, partially leveled =2, unleveled =3, no observation =4\n",
    "\n",
    "\n",
    "## Reading example dataset\n",
    "\n",
    "The list of binary NetCDF files can be downloaded via the link above and saved in the current working directory of this notebook. After checking the headersize of the ASCII file, the table can be read as a NumPy record array. The print statement checks the loaded fields in the recarray."
   ]
  },
  {
   "cell_type": "code",
   "execution_count": 2,
   "metadata": {},
   "outputs": [
    {
     "name": "stdout",
     "output_type": "stream",
     "text": [
      "('Event', 'Latitude', 'Longitude', 'DateTime', 'Content', 'File_name', 'File_format', 'File_size_kByte', 'URL_file')\n"
     ]
    }
   ],
   "source": [
    "datafolder = '../ac3/INF/pangaea_download/'\n",
    "datasetlist = np.recfromtxt(os.path.join(datafolder, 'Barrientos-Velasco-etal_2018.tab'), skip_header=38, delimiter='\\t', names=True, encoding='utf8')\n",
    "print (datasetlist.dtype.names)"
   ]
  },
  {
   "cell_type": "markdown",
   "metadata": {},
   "source": [
    "As an example we can download the first file in the collection, using a *wget* if your system supports it. If not, you can go to the link printed and downloaded manually."
   ]
  },
  {
   "cell_type": "code",
   "execution_count": 3,
   "metadata": {},
   "outputs": [
    {
     "name": "stdout",
     "output_type": "stream",
     "text": [
      "Downloading ...  http://hs.pangaea.de/Projects/AC3/PS106_1_IceFloeCamp/Pyranometer_data/pyrnet_ac3-pascal_2017-06-04_all.v2.nc\n",
      "File already there...\n"
     ]
    }
   ],
   "source": [
    "url = datasetlist['URL_file'][0]\n",
    "fname = url[url.rfind('/')+1:]\n",
    "print ('Downloading ... ', url)\n",
    "try:\n",
    "    if not os.path.exists(os.path.join(datafolder,fname)):\n",
    "        os.system('wget -O '+os.path.join(datafolder,fname)+' '+url)\n",
    "        print ('Download finished')\n",
    "    else:\n",
    "        print ('File already there...')\n",
    "except:\n",
    "    print ('Could not download automatically, please try manual download!')"
   ]
  },
  {
   "cell_type": "markdown",
   "metadata": {},
   "source": [
    "## Read in the downloaded NetCDF file\n"
   ]
  },
  {
   "cell_type": "code",
   "execution_count": 4,
   "metadata": {},
   "outputs": [
    {
     "name": "stdout",
     "output_type": "stream",
     "text": [
      "odict_keys(['time', 'station', 'calibration', 'szen', 'sazi', 'esd', 'qcflag_level', 'qcflag_clean', 'lon', 'lat', 'ghi', 'ta', 'rh', 'F0'])\n"
     ]
    }
   ],
   "source": [
    "fname = url[url.rfind('/')+1:]\n",
    "rootgrp = Dataset(os.path.join(datafolder,fname), 'r', format=\"NETCDF4\")\n",
    "print (rootgrp.variables.keys())\n"
   ]
  },
  {
   "cell_type": "code",
   "execution_count": null,
   "metadata": {},
   "outputs": [],
   "source": [
    "par = 'ghi'\n",
    "pardescription = rootgrp.variables[par].long_name+' ['+rootgrp.variables[par].units+']'\n",
    "ghi = rootgrp.variables[par][:]\n",
    "ghi = ghi[~np.isnan(ghi)]\n",
    "          \n",
    "lat = rootgrp.variables['lat'][:]\n",
    "lat = lat[~np.isnan(lat)]\n",
    "lon = rootgrp.variables['lon'][:]\n",
    "lon = lon[~np.isnan(lon)]"
   ]
  },
  {
   "cell_type": "markdown",
   "metadata": {},
   "source": [
    "## Overview plot\n",
    "\n",
    "As an overview, the data fields can be plotted against flight time. Time is converted from seconds to hours."
   ]
  },
  {
   "cell_type": "code",
   "execution_count": 6,
   "metadata": {},
   "outputs": [
    {
     "data": {
      "text/plain": [
       "[<matplotlib.lines.Line2D at 0x7f9f640bfc88>]"
      ]
     },
     "execution_count": 6,
     "metadata": {},
     "output_type": "execute_result"
    },
    {
     "data": {
      "image/png": "[encoded data removed]",
      "text/plain": [
       "<Figure size 432x288 with 1 Axes>"
      ]
     },
     "metadata": {
      "needs_background": "light"
     },
     "output_type": "display_data"
    }
   ],
   "source": [
    "plt.plot(ghi)"
   ]
  },
  {
   "cell_type": "markdown",
   "metadata": {},
   "source": [
    "## Plotting a map\n",
    "\n",
    "Using the Cartopy module, the data can be plotted as a function of latitude and longitude. An additional Natural Earth feature of Cartopy is used to show the Svalbard landmass with a black facecolor. For each dataset a distinct plot can be made that shows the values of the corresponding data on the attached colorbar. A different colormap was chosen for the second plot to distinguish between the separat data products."
   ]
  },
  {
   "cell_type": "code",
   "execution_count": 7,
   "metadata": {},
   "outputs": [],
   "source": [
    "land10m = cartopy.feature.NaturalEarthFeature('physical', 'land', '10m', edgecolor='None', facecolor='k')\n",
    "land50m = cartopy.feature.NaturalEarthFeature('physical', 'land', '50m', edgecolor='None', facecolor='k')\n",
    "land110m = cartopy.feature.NaturalEarthFeature('physical', 'land', '110m', edgecolor='None', facecolor='k')"
   ]
  },
  {
   "cell_type": "code",
   "execution_count": 8,
   "metadata": {},
   "outputs": [
    {
     "name": "stdout",
     "output_type": "stream",
     "text": [
      "81.92865 81.95641 10.467867 10.765324\n"
     ]
    }
   ],
   "source": [
    "latmin, latmax = np.min(lat), np.max(lat)\n",
    "lonmin, lonmax = np.min(lon), np.max(lon)\n",
    "\n",
    "print(latmin, latmax, lonmin, lonmax)"
   ]
  },
  {
   "cell_type": "code",
   "execution_count": 9,
   "metadata": {},
   "outputs": [
    {
     "data": {
      "image/png": "[encoded data removed]",
      "text/plain": [
       "<Figure size 720x432 with 2 Axes>"
      ]
     },
     "metadata": {
      "needs_background": "light"
     },
     "output_type": "display_data"
    }
   ],
   "source": [
    "c = lon>1.55\n",
    "fig = plt.figure(figsize=(10, 6))\n",
    "ax1 = fig.add_subplot(111, projection=ccrs.PlateCarree()) #Orthographic(0, 90))\n",
    "#ax1.add_feature(land50m)\n",
    "lon_formatter = LongitudeFormatter(zero_direction_label=True)\n",
    "lat_formatter = LatitudeFormatter()\n",
    "ax1.xaxis.set_major_formatter(lon_formatter)\n",
    "ax1.yaxis.set_major_formatter(lat_formatter)\n",
    "#ax1.gridlines()\n",
    "#ax1.set_extent([lonmin, lonmax, latmin, latmax], crs=ccrs.PlateCarree())\n",
    "ax1.set_extent([10.4, 10.8, 81.91, 81.97], crs=ccrs.PlateCarree())\n",
    "sc = ax1.scatter(lon[c], lat[c], s=5, c=ghi[c], transform=ccrs.PlateCarree())\n",
    "ax1.set_xticks([10.4,10.6,10.8], crs=ccrs.PlateCarree())\n",
    "ax1.set_yticks([81.91,81.94,81.98], crs=ccrs.PlateCarree())\n",
    "cb = fig.colorbar(sc, ax=ax1, orientation='horizontal', fraction=0.05, pad=0.06)\n",
    "cb.set_label(pardescription)\n"
   ]
  },
  {
   "cell_type": "code",
   "execution_count": null,
   "metadata": {},
   "outputs": [],
   "source": []
  }
 ],
 "metadata": {
  "kernelspec": {
   "display_name": "Python 3",
   "language": "python",
   "name": "python3"
  },
  "language_info": {
   "codemirror_mode": {
    "name": "ipython",
    "version": 3
   },
   "file_extension": ".py",
   "mimetype": "text/x-python",
   "name": "python",
   "nbconvert_exporter": "python",
   "pygments_lexer": "ipython3",
   "version": "3.7.3"
  }
 },
 "nbformat": 4,
 "nbformat_minor": 2
}
